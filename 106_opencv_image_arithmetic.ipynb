{
  "nbformat": 4,
  "nbformat_minor": 0,
  "metadata": {
    "colab": {
      "name": "106-opencv_image_arithmetic.ipynb",
      "provenance": [],
      "collapsed_sections": [],
      "toc_visible": true,
      "include_colab_link": true
    },
    "kernelspec": {
      "name": "python3",
      "display_name": "Python 3"
    }
  },
  "cells": [
    {
      "cell_type": "markdown",
      "metadata": {
        "id": "view-in-github",
        "colab_type": "text"
      },
      "source": [
        "<a href=\"https://colab.research.google.com/github/parekhakhil/pyImageSearch/blob/main/106_opencv_image_arithmetic.ipynb\" target=\"_parent\"><img src=\"https://colab.research.google.com/assets/colab-badge.svg\" alt=\"Open In Colab\"/></a>"
      ]
    },
    {
      "cell_type": "markdown",
      "metadata": {
        "id": "j4RpK9pawQzP"
      },
      "source": [
        "# Image Arithmetic OpenCV\n"
      ]
    },
    {
      "cell_type": "markdown",
      "metadata": {
        "id": "8ntZ1AkXZIxY"
      },
      "source": [
        "## Welcome to **[PyImageSearch Plus](http://pyimg.co/plus)** Jupyter Notebooks!\n",
        "\n",
        "This notebook is associated with the [Image Arithmetic OpenCV](https://www.pyimagesearch.com/2021/01/19/image-arithmetic-opencv/) blog post published on 01-19-2021.\n",
        "\n",
        "Only the code for the blog post is here. Most codeblocks have a 1:1 relationship with what you find in the blog post with two exceptions: (1) Python classes are not separate files as they are typically organized with PyImageSearch projects, and (2) Command Line Argument parsing is replaced with an `args` dictionary that you can manipulate as needed.\n",
        "\n",
        "We recommend that you execute (press ▶️) the code block-by-block, as-is, before adjusting parameters and `args` inputs. Once you've verified that the code is working, you are welcome to hack with it and learn from manipulating inputs, settings, and parameters. For more information on using Jupyter and Colab, please refer to these resources:\n",
        "\n",
        "*   [Jupyter Notebook User Interface](https://jupyter-notebook.readthedocs.io/en/stable/notebook.html#notebook-user-interface)\n",
        "*   [Overview of Google Colaboratory Features](https://colab.research.google.com/notebooks/basic_features_overview.ipynb)\n",
        "\n",
        "\n",
        "Happy hacking!\n",
        "\n",
        "\n",
        "<hr>\n"
      ]
    },
    {
      "cell_type": "markdown",
      "metadata": {
        "id": "NFhAzQB3aNMa"
      },
      "source": [
        "### Download the code zip file"
      ]
    },
    {
      "cell_type": "code",
      "metadata": {
        "id": "7y0LG1EuaRlB"
      },
      "source": [
        "!wget https://pyimagesearch-code-downloads.s3-us-west-2.amazonaws.com/opencv-image-arithmetic/opencv-image-arithmetic.zip\n",
        "!unzip -qq opencv-image-arithmetic.zip\n",
        "%cd opencv-image-arithmetic"
      ],
      "execution_count": null,
      "outputs": []
    },
    {
      "cell_type": "markdown",
      "metadata": {
        "id": "_SgTVT3HagGZ"
      },
      "source": [
        "## Blog Post Code"
      ]
    },
    {
      "cell_type": "markdown",
      "metadata": {
        "id": "wcrOk6pURp50"
      },
      "source": [
        "### Import Packages"
      ]
    },
    {
      "cell_type": "code",
      "metadata": {
        "id": "VJaCNlDDRz6d"
      },
      "source": [
        "# import the necessary packages\n",
        "from matplotlib import pyplot as plt\n",
        "import numpy as np\n",
        "import argparse\n",
        "import cv2"
      ],
      "execution_count": null,
      "outputs": []
    },
    {
      "cell_type": "markdown",
      "metadata": {
        "id": "lBrLwCtN5kqy"
      },
      "source": [
        "### Function to display images in Jupyter Notebooks and Google Colab"
      ]
    },
    {
      "cell_type": "code",
      "metadata": {
        "id": "fRw969Dp5Kdm"
      },
      "source": [
        "def plt_imshow(title, image):\n",
        "\t# convert the image frame BGR to RGB color space and display it\n",
        "\timage = cv2.cvtColor(image, cv2.COLOR_BGR2RGB)\n",
        "\tplt.imshow(image)\n",
        "\tplt.title(title)\n",
        "\tplt.grid(False)\n",
        "\tplt.show()"
      ],
      "execution_count": null,
      "outputs": []
    },
    {
      "cell_type": "markdown",
      "metadata": {
        "id": "iH8-nfqp35qq"
      },
      "source": [
        "### Implementing image arithmetic with OpenCV"
      ]
    },
    {
      "cell_type": "code",
      "metadata": {
        "id": "H_aj3SDjnns4"
      },
      "source": [
        "# # construct the argument parser and parse the arguments\n",
        "# ap = argparse.ArgumentParser()\n",
        "# ap.add_argument(\"-i\", \"--image\", type=str, default=\"grand_canyon.png\",\n",
        "# \thelp=\"path to the input image\")\n",
        "# args = vars(ap.parse_args())\n",
        "\n",
        "# since we are using Jupyter Notebooks we can replace our argument\n",
        "# parsing code with *hard coded* arguments and values\n",
        "args = {\n",
        "\t\"image\": \"grand_canyon.png\"\n",
        "}"
      ],
      "execution_count": null,
      "outputs": []
    },
    {
      "cell_type": "code",
      "metadata": {
        "id": "Xf1415LG4HaT"
      },
      "source": [
        "# images are NumPy arrays stored as unsigned 8-bit integers (unit8)\n",
        "# with values in the range [0, 255]; when using the add/subtract\n",
        "# functions in OpenCV, these values will be *clipped* to this range,\n",
        "# even if they fall outside the range [0, 255] after applying the\n",
        "# operation\n",
        "added = cv2.add(np.uint8([200]), np.uint8([100]))\n",
        "subtracted = cv2.subtract(np.uint8([50]), np.uint8([100]))\n",
        "print(\"max of 255: {}\".format(added))\n",
        "print(\"min of 0: {}\".format(subtracted))"
      ],
      "execution_count": null,
      "outputs": []
    },
    {
      "cell_type": "code",
      "metadata": {
        "id": "uSBLjUtU4LGj"
      },
      "source": [
        "# using NumPy arithmetic operations (rather than OpenCV operations)\n",
        "# will result in a modulo (\"wrap around\") instead of being clipped\n",
        "# to the range [0, 255]\n",
        "added = np.uint8([200]) + np.uint8([100])\n",
        "subtracted = np.uint8([50]) - np.uint8([100])\n",
        "print(\"wrap around: {}\".format(added))\n",
        "print(\"wrap around: {}\".format(subtracted))"
      ],
      "execution_count": null,
      "outputs": []
    },
    {
      "cell_type": "code",
      "metadata": {
        "id": "UKMIMUXN4RCT"
      },
      "source": [
        "# load the original input image and display it to our screen\n",
        "image = cv2.imread(args[\"image\"])\n",
        "plt_imshow(\"Original\", image)"
      ],
      "execution_count": null,
      "outputs": []
    },
    {
      "cell_type": "code",
      "metadata": {
        "id": "7MDDfXXi4U9t"
      },
      "source": [
        "# increasing the pixel intensities in our input image by 100 is\n",
        "# accomplished by constructing a NumPy array that has the *same\n",
        "# dimensions* as our input image, filling it with ones, multiplying\n",
        "# it by 100, and then adding the input image and matrix together\n",
        "M = np.ones(image.shape, dtype=\"uint8\") * 100\n",
        "added = cv2.add(image, M)\n",
        "plt_imshow(\"Lighter\", added)"
      ],
      "execution_count": null,
      "outputs": []
    },
    {
      "cell_type": "code",
      "metadata": {
        "id": "2xmOaNyU4Ypk"
      },
      "source": [
        "# similarly, we can subtract 50 from all pixels in our image and make it\n",
        "# darker\n",
        "M = np.ones(image.shape, dtype=\"uint8\") * 50\n",
        "subtracted = cv2.subtract(image, M)\n",
        "plt_imshow(\"Darker\", subtracted)"
      ],
      "execution_count": null,
      "outputs": []
    },
    {
      "cell_type": "markdown",
      "metadata": {
        "id": "4ogkNauArL6u"
      },
      "source": [
        "For a detailed walkthrough of the concepts and code, be sure to refer to the full tutorial, [*Image Arithmetic OpenCV*](https://www.pyimagesearch.com/2021/01/19/image-arithmetic-opencv/) published on 01-19-2021."
      ]
    }
  ]
}