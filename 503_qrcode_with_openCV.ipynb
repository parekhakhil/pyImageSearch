{
  "nbformat": 4,
  "nbformat_minor": 0,
  "metadata": {
    "colab": {
      "name": "503-qrcode_with_openCV.ipynb",
      "provenance": [],
      "authorship_tag": "ABX9TyMaac6dYZTAXpGmZfWkRx3Y",
      "include_colab_link": true
    },
    "kernelspec": {
      "name": "python3",
      "display_name": "Python 3"
    },
    "language_info": {
      "name": "python"
    }
  },
  "cells": [
    {
      "cell_type": "markdown",
      "metadata": {
        "id": "view-in-github",
        "colab_type": "text"
      },
      "source": [
        "<a href=\"https://colab.research.google.com/github/parekhakhil/pyImageSearch/blob/main/503_qrcode_with_openCV.ipynb\" target=\"_parent\"><img src=\"https://colab.research.google.com/assets/colab-badge.svg\" alt=\"Open In Colab\"/></a>"
      ]
    },
    {
      "cell_type": "markdown",
      "metadata": {
        "id": "k_DN3iD7trz3"
      },
      "source": [
        "# Generating QR code markers with OpenCV and Python"
      ]
    },
    {
      "cell_type": "markdown",
      "metadata": {
        "id": "fcwL-TvetveF"
      },
      "source": [
        "This notebook is associated with the [Generating Qr code markers with OpenCV and Python](https://analyticsindiamag.com/guide-to-generating-qrcode-and-scan-qrcode/)\n",
        "\n",
        "Only the code for the blog post is here. Most codeblocks have a 1:1 relationship with what you find in the blog post with two exceptions: (1) Python classes are not separate files as they are typically organized with PyImageSearch projects, and (2) Command Line Argument parsing is replaced with an `args` dictionary that you can manipulate as needed.\n",
        "\n",
        "We recommend that you execute (press ▶️) the code block-by-block, as-is, before adjusting parameters and `args` inputs. Once you've verified that the code is working, you are welcome to hack with it and learn from manipulating inputs, settings, and parameters. For more information on using Jupyter and Colab, please refer to these resources:"
      ]
    },
    {
      "cell_type": "markdown",
      "metadata": {
        "id": "nfdZncCVuB1W"
      },
      "source": [
        "### Import packages"
      ]
    },
    {
      "cell_type": "code",
      "metadata": {
        "colab": {
          "base_uri": "https://localhost:8080/"
        },
        "id": "W5r5Eracug9n",
        "outputId": "392d4f08-5edd-4fbc-aa5e-14c5e768bb8d"
      },
      "source": [
        "!apt install zbar\n",
        "!pip install qrcode\n",
        "!pip install pyzbar\n",
        "#this library it illustrates type: whether it is barcode or QRcode, data: the alphanumeric information is hidden in QRcode, and location: edges of the QRcode in the image."
      ],
      "execution_count": 18,
      "outputs": [
        {
          "output_type": "stream",
          "text": [
            "Reading package lists... Done\n",
            "Building dependency tree       \n",
            "Reading state information... Done\n",
            "E: Unable to locate package zbar\n",
            "Requirement already satisfied: qrcode in /usr/local/lib/python3.7/dist-packages (6.1)\n",
            "Requirement already satisfied: six in /usr/local/lib/python3.7/dist-packages (from qrcode) (1.15.0)\n",
            "Requirement already satisfied: pyzbar in /usr/local/lib/python3.7/dist-packages (0.1.8)\n"
          ],
          "name": "stdout"
        }
      ]
    },
    {
      "cell_type": "code",
      "metadata": {
        "id": "VqMva5kktpSP"
      },
      "source": [
        "import cv2\n",
        "import numpy as np\n",
        "from google.colab.patches import cv2_imshow\n",
        "import matplotlib.pyplot as plt\n",
        "import qrcode\n",
        "import argparse\n",
        "import pyzbar #Pyzbar is an OpenCV module that is used to decode the QRcode"
      ],
      "execution_count": 10,
      "outputs": []
    },
    {
      "cell_type": "markdown",
      "metadata": {
        "id": "XEjvVFtQvZJ1"
      },
      "source": [
        "### Function to display images in Jupyter Notebooks and Google Colab"
      ]
    },
    {
      "cell_type": "code",
      "metadata": {
        "id": "ctUuSfPluSu3"
      },
      "source": [
        "def plt_imshow(title, image):\n",
        "    # convert the image frame BGR to RGB color space and display it\n",
        "\timage = cv2.cvtColor(image, cv2.COLOR_BGR2RGB)\n",
        "\tplt.imshow(image)\n",
        "\tplt.title(title)\n",
        "\tplt.grid(False)\n",
        "\tplt.show()"
      ],
      "execution_count": 11,
      "outputs": []
    },
    {
      "cell_type": "markdown",
      "metadata": {
        "id": "cprVp6yfvdiy"
      },
      "source": [
        ""
      ]
    },
    {
      "cell_type": "code",
      "metadata": {
        "id": "8KT30HQkvViW"
      },
      "source": [
        "# # construct the argument parser and parse the arguments\n",
        "# ap = argparse.ArgumentParser()\n",
        "# ap.add_argument(\"-o\", \"--output\", required=True,\n",
        "# \thelp=\"path to output image containing ArUCo tag\")\n",
        "# ap.add_argument(\"-i\", \"--id\", type=int, required=True,\n",
        "# \thelp=\"ID of ArUCo tag to generate\")\n",
        "# ap.add_argument(\"-t\", \"--type\", type=str,\n",
        "# \tdefault=\"DICT_ARUCO_ORIGINAL\",\n",
        "# \thelp=\"type of ArUCo tag to generate\")\n",
        "# args = vars(ap.parse_args())\n",
        "\n",
        "# since we are using Jupyter Notebooks we can replace our argument\n",
        "# parsing code with *hard coded* arguments and values\n",
        "args = {\n",
        "\t\"link\":\"https://colab.research.google.com/\"\n",
        "}"
      ],
      "execution_count": 14,
      "outputs": []
    },
    {
      "cell_type": "code",
      "metadata": {
        "colab": {
          "base_uri": "https://localhost:8080/",
          "height": 421
        },
        "id": "LqawIet3v-5C",
        "outputId": "9a5dfd3c-761d-4510-fbe8-1b314872a3b6"
      },
      "source": [
        "img = qrcode.make(args.get(\"link\"))\n",
        "print(type(img))\n",
        "print(img.size)\n",
        "img.save(\"/content/qr_colab.png\")\n",
        "png = cv2.imread(\"/content/qr_colab.png\")\n",
        "cv2_imshow(png)\n"
      ],
      "execution_count": 37,
      "outputs": [
        {
          "output_type": "stream",
          "text": [
            "<class 'qrcode.image.pil.PilImage'>\n",
            "(370, 370)\n"
          ],
          "name": "stdout"
        },
        {
          "output_type": "display_data",
          "data": {
            "image/png": "[encoded data removed]",
            "text/plain": [
              "<PIL.Image.Image image mode=RGB size=370x370 at 0x7FB6F0E4FC50>"
            ]
          },
          "metadata": {
            "tags": []
          }
        }
      ]
    },
    {
      "cell_type": "code",
      "metadata": {
        "colab": {
          "base_uri": "https://localhost:8080/",
          "height": 404
        },
        "id": "gGZTLf0hw333",
        "outputId": "834e11bb-6ad3-48ac-dc16-a11deb23e26e"
      },
      "source": [
        "detector = cv2.QRCodeDetector()\n",
        "#detectAndDecode() function takes an image as an input and returns a tuple of 3 values: the data decoded from the QR code, the output array of vertices of the found QR code quadrangle and the output image containing rectified and binarized QR code.\n",
        "data,bbox,straight_qr = detector.detectAndDecode(png)\n",
        "if(data):\n",
        "    print(data)\n",
        "if bbox is not None:\n",
        "    for i in range(len(bbox)):\n",
        "        pt1 = tuple(bbox[i][0])\n",
        "        pt2 = tuple(bbox[(i+1)%len(bbox)][0])\n",
        "        cv2.line(png,pt1,pt2,(0,0,0),2)\n",
        "    cv2_imshow(png)\n"
      ],
      "execution_count": 39,
      "outputs": [
        {
          "output_type": "stream",
          "text": [
            "https://colab.research.google.com/\n"
          ],
          "name": "stdout"
        },
        {
          "output_type": "display_data",
          "data": {
            "image/png": "[encoded data removed]",
            "text/plain": [
              "<PIL.Image.Image image mode=RGB size=370x370 at 0x7FB6F1022650>"
            ]
          },
          "metadata": {
            "tags": []
          }
        }
      ]
    },
    {
      "cell_type": "markdown",
      "metadata": {
        "id": "Y5dk8uj71UZs"
      },
      "source": [
        "### Detect the qr code in video"
      ]
    },
    {
      "cell_type": "code",
      "metadata": {
        "id": "ef1miQkXx0xV"
      },
      "source": [
        "cap = cv2.VideoCapture()\n",
        "detector = cv2.QRCodeDetector()\n",
        "while True:\n",
        "    _,frame = cap.read()\n",
        "    data,bbox,_ = detector.detectAndDecode(frame)\n",
        "    if bbox is not None:\n",
        "        for i in range(len(bbox)):\n",
        "        pt1 = tuple(bbox[i][0])\n",
        "        pt2 = tuple(bbox[(i+1)%len(bbox)][0])\n",
        "        cv2.line(frame,pt1,pt2,(0,0,0),2)\n",
        "    frame.save(\"qr_detected.png\")\n",
        "    if data:\n",
        "        print(f\"Data extracted from qrcode is {data}\")\n",
        "    "
      ],
      "execution_count": null,
      "outputs": []
    }
  ]
}