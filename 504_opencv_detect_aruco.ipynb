{
  "nbformat": 4,
  "nbformat_minor": 0,
  "metadata": {
    "colab": {
      "name": "504-opencv_detect_aruco.ipynb",
      "provenance": [],
      "collapsed_sections": [],
      "include_colab_link": true
    },
    "kernelspec": {
      "name": "python3",
      "display_name": "Python 3"
    }
  },
  "cells": [
    {
      "cell_type": "markdown",
      "metadata": {
        "id": "view-in-github",
        "colab_type": "text"
      },
      "source": [
        "<a href=\"https://colab.research.google.com/github/parekhakhil/pyImageSearch/blob/main/504_opencv_detect_aruco.ipynb\" target=\"_parent\"><img src=\"https://colab.research.google.com/assets/colab-badge.svg\" alt=\"Open In Colab\"/></a>"
      ]
    },
    {
      "cell_type": "markdown",
      "metadata": {
        "id": "c7uPgNc0NyO7"
      },
      "source": [
        "# Detecting ArUco markers with OpenCV and Python\n",
        "\n"
      ]
    },
    {
      "cell_type": "markdown",
      "metadata": {
        "id": "Mpthbjs-N2qJ"
      },
      "source": [
        "\n",
        "\n",
        "This notebook is associated with the [Detecting ArUco markers with OpenCV and Python](https://www.pyimagesearch.com/2020/12/21/detecting-aruco-markers-with-opencv-and-python/) blog post published on 12-21-20.\n",
        "\n",
        "Only the code for the blog post is here. Most codeblocks have a 1:1 relationship with what you find in the blog post with two exceptions: (1) Python classes are not separate files as they are typically organized with PyImageSearch projects, and (2) Command Line Argument parsing is replaced with an `args` dictionary that you can manipulate as needed.\n",
        "\n",
        "We recommend that you execute (press ▶️) the code block-by-block, as-is, before adjusting parameters and `args` inputs. Once you've verified that the code is working, you are welcome to hack with it and learn from manipulating inputs, settings, and parameters. For more information on using Jupyter and Colab, please refer to these resources:\n",
        "\n",
        "*   [Jupyter Notebook User Interface](https://jupyter-notebook.readthedocs.io/en/stable/notebook.html#notebook-user-interface)\n",
        "*   [Overview of Google Colaboratory Features](https://colab.research.google.com/notebooks/basic_features_overview.ipynb)\n",
        "\n",
        " \n",
        "\n",
        "Happy hacking!\n",
        "\n",
        "\n",
        "\n",
        "<hr>\n"
      ]
    },
    {
      "cell_type": "markdown",
      "metadata": {
        "id": "0pL5rHGgOAMk"
      },
      "source": [
        "### Download the code zip file"
      ]
    },
    {
      "cell_type": "code",
      "metadata": {
        "id": "rPaVERZsMpT9"
      },
      "source": [
        "!wget https://pyimagesearch-code-downloads.s3-us-west-2.amazonaws.com/opencv-detect-aruco/opencv-detect-aruco.zip\n",
        "!unzip -qq opencv-detect-aruco.zip\n",
        "%cd opencv-detect-aruco"
      ],
      "execution_count": null,
      "outputs": []
    },
    {
      "cell_type": "markdown",
      "metadata": {
        "id": "8yYRCnThOQXl"
      },
      "source": [
        "## Blog Post Code"
      ]
    },
    {
      "cell_type": "markdown",
      "metadata": {
        "id": "BcmY4DDJOSIt"
      },
      "source": [
        "### Import Packages"
      ]
    },
    {
      "cell_type": "code",
      "metadata": {
        "id": "BlcPho8lOOuF"
      },
      "source": [
        "# import the necessary packages\n",
        "from imutils.video import VideoStream\n",
        "import matplotlib.pyplot as plt\n",
        "import argparse\n",
        "import imutils\n",
        "import time\n",
        "import cv2\n",
        "import sys"
      ],
      "execution_count": null,
      "outputs": []
    },
    {
      "cell_type": "markdown",
      "metadata": {
        "id": "uY1ceK63OuFY"
      },
      "source": [
        "### Function to display images in Jupyter Notebooks and Google Colab"
      ]
    },
    {
      "cell_type": "code",
      "metadata": {
        "id": "gkPDb7emOuwQ"
      },
      "source": [
        "def plt_imshow(title, image):\n",
        "    # convert the image frame BGR to RGB color space and display it\n",
        "\timage = cv2.cvtColor(image, cv2.COLOR_BGR2RGB)\n",
        "\tplt.imshow(image)\n",
        "\tplt.title(title)\n",
        "\tplt.grid(False)\n",
        "\tplt.show()"
      ],
      "execution_count": null,
      "outputs": []
    },
    {
      "cell_type": "markdown",
      "metadata": {
        "id": "OHXqmHFJOh-H"
      },
      "source": [
        "### Detecting ArUco markers with OpenCV in images"
      ]
    },
    {
      "cell_type": "code",
      "metadata": {
        "id": "DAjn9R4DOz1Z"
      },
      "source": [
        "# # construct the argument parser and parse the arguments\n",
        "# ap = argparse.ArgumentParser()\n",
        "# ap.add_argument(\"-i\", \"--image\", required=True,\n",
        "# \thelp=\"path to input image containing ArUCo tag\")\n",
        "# ap.add_argument(\"-t\", \"--type\", type=str,\n",
        "# \tdefault=\"DICT_ARUCO_ORIGINAL\",\n",
        "# \thelp=\"type of ArUCo tag to detect\")\n",
        "# args = vars(ap.parse_args())\n",
        "\n",
        "# since we are using Jupyter Notebooks we can replace our argument\n",
        "# parsing code with *hard coded* arguments and values\n",
        "args = {\n",
        "    \"image\": \"images/example_01.png\",\n",
        "    \"type\": \"DICT_5X5_100\",\n",
        "}"
      ],
      "execution_count": null,
      "outputs": []
    },
    {
      "cell_type": "code",
      "metadata": {
        "id": "5eRWC7oCPBKA"
      },
      "source": [
        "# define names of each possible ArUco tag OpenCV supports\n",
        "ARUCO_DICT = {\n",
        "\t\"DICT_4X4_50\": cv2.aruco.DICT_4X4_50,\n",
        "\t\"DICT_4X4_100\": cv2.aruco.DICT_4X4_100,\n",
        "\t\"DICT_4X4_250\": cv2.aruco.DICT_4X4_250,\n",
        "\t\"DICT_4X4_1000\": cv2.aruco.DICT_4X4_1000,\n",
        "\t\"DICT_5X5_50\": cv2.aruco.DICT_5X5_50,\n",
        "\t\"DICT_5X5_100\": cv2.aruco.DICT_5X5_100,\n",
        "\t\"DICT_5X5_250\": cv2.aruco.DICT_5X5_250,\n",
        "\t\"DICT_5X5_1000\": cv2.aruco.DICT_5X5_1000,\n",
        "\t\"DICT_6X6_50\": cv2.aruco.DICT_6X6_50,\n",
        "\t\"DICT_6X6_100\": cv2.aruco.DICT_6X6_100,\n",
        "\t\"DICT_6X6_250\": cv2.aruco.DICT_6X6_250,\n",
        "\t\"DICT_6X6_1000\": cv2.aruco.DICT_6X6_1000,\n",
        "\t\"DICT_7X7_50\": cv2.aruco.DICT_7X7_50,\n",
        "\t\"DICT_7X7_100\": cv2.aruco.DICT_7X7_100,\n",
        "\t\"DICT_7X7_250\": cv2.aruco.DICT_7X7_250,\n",
        "\t\"DICT_7X7_1000\": cv2.aruco.DICT_7X7_1000,\n",
        "\t\"DICT_ARUCO_ORIGINAL\": cv2.aruco.DICT_ARUCO_ORIGINAL,\n",
        "\t\"DICT_APRILTAG_16h5\": cv2.aruco.DICT_APRILTAG_16h5,\n",
        "\t\"DICT_APRILTAG_25h9\": cv2.aruco.DICT_APRILTAG_25h9,\n",
        "\t\"DICT_APRILTAG_36h10\": cv2.aruco.DICT_APRILTAG_36h10,\n",
        "\t\"DICT_APRILTAG_36h11\": cv2.aruco.DICT_APRILTAG_36h11\n",
        "}"
      ],
      "execution_count": null,
      "outputs": []
    },
    {
      "cell_type": "code",
      "metadata": {
        "id": "HHwEfmcIPF41"
      },
      "source": [
        "# load the input image from disk and resize it\n",
        "print(\"[INFO] loading image...\")\n",
        "image = cv2.imread(args[\"image\"])\n",
        "image = imutils.resize(image, width=600)\n",
        "\n",
        "# verify that the supplied ArUCo tag exists and is supported by\n",
        "# OpenCV\n",
        "if ARUCO_DICT.get(args[\"type\"], None) is None:\n",
        "\tprint(\"[INFO] ArUCo tag of '{}' is not supported\".format(\n",
        "\t\targs[\"type\"]))\n",
        "\tsys.exit(0)\n",
        "\n",
        "# load the ArUCo dictionary, grab the ArUCo parameters, and detect\n",
        "# the markers\n",
        "print(\"[INFO] detecting '{}' tags...\".format(args[\"type\"]))\n",
        "arucoDict = cv2.aruco.Dictionary_get(ARUCO_DICT[args[\"type\"]])\n",
        "arucoParams = cv2.aruco.DetectorParameters_create()\n",
        "(corners, ids, rejected) = cv2.aruco.detectMarkers(image, arucoDict,\n",
        "\tparameters=arucoParams)"
      ],
      "execution_count": null,
      "outputs": []
    },
    {
      "cell_type": "code",
      "metadata": {
        "id": "vmgarKIvPPC-"
      },
      "source": [
        "# verify *at least* one ArUco marker was detected\n",
        "if len(corners) > 0:\n",
        "\t# flatten the ArUco IDs list\n",
        "\tids = ids.flatten()\n",
        "\n",
        "\t# loop over the detected ArUCo corners\n",
        "\tfor (markerCorner, markerID) in zip(corners, ids):\n",
        "\t\t# extract the marker corners (which are always returned in\n",
        "\t\t# top-left, top-right, bottom-right, and bottom-left order)\n",
        "\t\tcorners = markerCorner.reshape((4, 2))\n",
        "\t\t(topLeft, topRight, bottomRight, bottomLeft) = corners\n",
        "\n",
        "\t\t# convert each of the (x, y)-coordinate pairs to integers\n",
        "\t\ttopRight = (int(topRight[0]), int(topRight[1]))\n",
        "\t\tbottomRight = (int(bottomRight[0]), int(bottomRight[1]))\n",
        "\t\tbottomLeft = (int(bottomLeft[0]), int(bottomLeft[1]))\n",
        "\t\ttopLeft = (int(topLeft[0]), int(topLeft[1]))\n",
        "\n",
        "\t\t# draw the bounding box of the ArUCo detection\n",
        "\t\tcv2.line(image, topLeft, topRight, (0, 255, 0), 2)\n",
        "\t\tcv2.line(image, topRight, bottomRight, (0, 255, 0), 2)\n",
        "\t\tcv2.line(image, bottomRight, bottomLeft, (0, 255, 0), 2)\n",
        "\t\tcv2.line(image, bottomLeft, topLeft, (0, 255, 0), 2)\n",
        "\n",
        "\t\t# compute and draw the center (x, y)-coordinates of the ArUco\n",
        "\t\t# marker\n",
        "\t\tcX = int((topLeft[0] + bottomRight[0]) / 2.0)\n",
        "\t\tcY = int((topLeft[1] + bottomRight[1]) / 2.0)\n",
        "\t\tcv2.circle(image, (cX, cY), 4, (0, 0, 255), -1)\n",
        "\n",
        "\t\t# draw the ArUco marker ID on the image\n",
        "\t\tcv2.putText(image, str(markerID),\n",
        "\t\t\t(topLeft[0], topLeft[1] - 15), cv2.FONT_HERSHEY_SIMPLEX,\n",
        "\t\t\t0.5, (0, 255, 0), 2)\n",
        "\t\tprint(\"[INFO] ArUco marker ID: {}\".format(markerID))\n",
        "\n",
        "\t\t# show the output image\n",
        "\t\tplt_imshow(\"Image\", image)"
      ],
      "execution_count": null,
      "outputs": []
    },
    {
      "cell_type": "markdown",
      "metadata": {
        "id": "MZQyf5hKQlZy"
      },
      "source": [
        "### Detecting ArUco markers in real-time video streams with OpenCV"
      ]
    },
    {
      "cell_type": "code",
      "metadata": {
        "id": "YXTA_gnY8jiO"
      },
      "source": [
        "# first, let's download a sample video we will use to detect ArUco markers\n",
        "!wget https://colab-notebook-videos.s3-us-west-2.amazonaws.com/aruco_sample.mp4"
      ],
      "execution_count": null,
      "outputs": []
    },
    {
      "cell_type": "code",
      "metadata": {
        "id": "1hf2XwSgQmsj"
      },
      "source": [
        "# # construct the argument parser and parse the arguments\n",
        "# ap = argparse.ArgumentParser()\n",
        "# ap.add_argument(\"-t\", \"--type\", type=str,\n",
        "# \tdefault=\"DICT_ARUCO_ORIGINAL\",\n",
        "# \thelp=\"type of ArUCo tag to detect\")\n",
        "# args = vars(ap.parse_args())\n",
        "\n",
        "# since we are using Jupyter Notebooks we can replace our argument\n",
        "# parsing code with *hard coded* arguments and values\n",
        "args = {\n",
        "    \"type\": \"DICT_ARUCO_ORIGINAL\",\n",
        "    \"video\": \"aruco_sample.mp4\",\n",
        "    \"output\": \"output.avi\"\n",
        "}"
      ],
      "execution_count": null,
      "outputs": []
    },
    {
      "cell_type": "code",
      "metadata": {
        "id": "dey8W2vsQ9Ur"
      },
      "source": [
        "# define names of each possible ArUco tag OpenCV supports\n",
        "ARUCO_DICT = {\n",
        "\t\"DICT_4X4_50\": cv2.aruco.DICT_4X4_50,\n",
        "\t\"DICT_4X4_100\": cv2.aruco.DICT_4X4_100,\n",
        "\t\"DICT_4X4_250\": cv2.aruco.DICT_4X4_250,\n",
        "\t\"DICT_4X4_1000\": cv2.aruco.DICT_4X4_1000,\n",
        "\t\"DICT_5X5_50\": cv2.aruco.DICT_5X5_50,\n",
        "\t\"DICT_5X5_100\": cv2.aruco.DICT_5X5_100,\n",
        "\t\"DICT_5X5_250\": cv2.aruco.DICT_5X5_250,\n",
        "\t\"DICT_5X5_1000\": cv2.aruco.DICT_5X5_1000,\n",
        "\t\"DICT_6X6_50\": cv2.aruco.DICT_6X6_50,\n",
        "\t\"DICT_6X6_100\": cv2.aruco.DICT_6X6_100,\n",
        "\t\"DICT_6X6_250\": cv2.aruco.DICT_6X6_250,\n",
        "\t\"DICT_6X6_1000\": cv2.aruco.DICT_6X6_1000,\n",
        "\t\"DICT_7X7_50\": cv2.aruco.DICT_7X7_50,\n",
        "\t\"DICT_7X7_100\": cv2.aruco.DICT_7X7_100,\n",
        "\t\"DICT_7X7_250\": cv2.aruco.DICT_7X7_250,\n",
        "\t\"DICT_7X7_1000\": cv2.aruco.DICT_7X7_1000,\n",
        "\t\"DICT_ARUCO_ORIGINAL\": cv2.aruco.DICT_ARUCO_ORIGINAL,\n",
        "\t\"DICT_APRILTAG_16h5\": cv2.aruco.DICT_APRILTAG_16h5,\n",
        "\t\"DICT_APRILTAG_25h9\": cv2.aruco.DICT_APRILTAG_25h9,\n",
        "\t\"DICT_APRILTAG_36h10\": cv2.aruco.DICT_APRILTAG_36h10,\n",
        "\t\"DICT_APRILTAG_36h11\": cv2.aruco.DICT_APRILTAG_36h11\n",
        "}"
      ],
      "execution_count": null,
      "outputs": []
    },
    {
      "cell_type": "code",
      "metadata": {
        "id": "Zc5-hGHgRXsq"
      },
      "source": [
        "# verify that the supplied ArUCo tag exists and is supported by\n",
        "# OpenCV\n",
        "if ARUCO_DICT.get(args[\"type\"], None) is None:\n",
        "\tprint(\"[INFO] ArUCo tag of '{}' is not supported\".format(\n",
        "\t\targs[\"type\"]))\n",
        "\tsys.exit(0)\n",
        "\n",
        "# load the ArUCo dictionary and grab the ArUCo parameters\n",
        "print(\"[INFO] detecting '{}' tags...\".format(args[\"type\"]))\n",
        "arucoDict = cv2.aruco.Dictionary_get(ARUCO_DICT[args[\"type\"]])\n",
        "arucoParams = cv2.aruco.DetectorParameters_create()\n",
        "\n",
        "# initialize the video stream, pointer to output video file, and\n",
        "# frame dimensions\n",
        "vs = cv2.VideoCapture(args[\"video\"])\n",
        "writer = None\n",
        "(W, H) = (None, None)\n",
        "\n",
        "# try to determine the total number of frames in the video file\n",
        "try:\n",
        "\tprop = cv2.cv.CV_CAP_PROP_FRAME_COUNT if imutils.is_cv2() \\\n",
        "\t\telse cv2.CAP_PROP_FRAME_COUNT\n",
        "\ttotal = int(vs.get(prop))\n",
        "\tprint(\"[INFO] {} total frames in video\".format(total))\n",
        "\n",
        "# an error occurred while trying to determine the total\n",
        "# number of frames in the video file\n",
        "except:\n",
        "\tprint(\"[INFO] could not determine # of frames in video\")\n",
        "\tprint(\"[INFO] no approx. completion time can be provided\")\n",
        "\ttotal = -1"
      ],
      "execution_count": null,
      "outputs": []
    },
    {
      "cell_type": "code",
      "metadata": {
        "id": "nHIF5c9nT_Ck"
      },
      "source": [
        "# loop over the frames from the video stream\n",
        "while True:\n",
        "\t# read the next frame from the file\n",
        "\t(grabbed, frame) = vs.read()\n",
        " \n",
        "\t# if the frame was not grabbed, then we have reached the end\n",
        "\t# of the stream\n",
        "\tif not grabbed:\n",
        "\t\tbreak\n",
        "\n",
        "\t# resize the frame to have a maximum width of 600 pixels\n",
        "\tframe = imutils.resize(frame, width=600)\n",
        "\n",
        "\t# detect ArUco markers in the input frame\n",
        "\t(corners, ids, rejected) = cv2.aruco.detectMarkers(frame,\n",
        "\t\tarucoDict, parameters=arucoParams)\n",
        "\n",
        "\t# verify *at least* one ArUco marker was detected\n",
        "\tif len(corners) > 0:\n",
        "\t\t# flatten the ArUco IDs list\n",
        "\t\tids = ids.flatten()\n",
        "\n",
        "\t\t# loop over the detected ArUCo corners\n",
        "\t\tfor (markerCorner, markerID) in zip(corners, ids):\n",
        "\t\t\t# extract the marker corners (which are always returned\n",
        "\t\t\t# in top-left, top-right, bottom-right, and bottom-left\n",
        "\t\t\t# order)\n",
        "\t\t\tcorners = markerCorner.reshape((4, 2))\n",
        "\t\t\t(topLeft, topRight, bottomRight, bottomLeft) = corners\n",
        "\n",
        "\t\t\t# convert each of the (x, y)-coordinate pairs to integers\n",
        "\t\t\ttopRight = (int(topRight[0]), int(topRight[1]))\n",
        "\t\t\tbottomRight = (int(bottomRight[0]), int(bottomRight[1]))\n",
        "\t\t\tbottomLeft = (int(bottomLeft[0]), int(bottomLeft[1]))\n",
        "\t\t\ttopLeft = (int(topLeft[0]), int(topLeft[1]))\n",
        "\n",
        "\t\t\t# draw the bounding box of the ArUCo detection\n",
        "\t\t\tcv2.line(frame, topLeft, topRight, (0, 255, 0), 2)\n",
        "\t\t\tcv2.line(frame, topRight, bottomRight, (0, 255, 0), 2)\n",
        "\t\t\tcv2.line(frame, bottomRight, bottomLeft, (0, 255, 0), 2)\n",
        "\t\t\tcv2.line(frame, bottomLeft, topLeft, (0, 255, 0), 2)\n",
        "\n",
        "\t\t\t# compute and draw the center (x, y)-coordinates of the\n",
        "\t\t\t# ArUco marker\n",
        "\t\t\tcX = int((topLeft[0] + bottomRight[0]) / 2.0)\n",
        "\t\t\tcY = int((topLeft[1] + bottomRight[1]) / 2.0)\n",
        "\t\t\tcv2.circle(frame, (cX, cY), 4, (0, 0, 255), -1)\n",
        "\n",
        "\t\t\t# draw the ArUco marker ID on the frame\n",
        "\t\t\tcv2.putText(frame, str(markerID),\n",
        "\t\t\t\t(topLeft[0], topLeft[1] - 15),\n",
        "\t\t\t\tcv2.FONT_HERSHEY_SIMPLEX,\n",
        "\t\t\t\t0.5, (0, 255, 0), 2)\n",
        "\n",
        "\t# check if the video writer is None\n",
        "\tif writer is None:\n",
        "\t\t# initialize our video writer\n",
        "\t\tfourcc = cv2.VideoWriter_fourcc(*\"MJPG\")\n",
        "\t\twriter = cv2.VideoWriter(args[\"output\"], fourcc, 30,\n",
        "\t\t\t(frame.shape[1], frame.shape[0]), True)\n",
        "\n",
        "\t# write the output frame to disk\n",
        "\twriter.write(frame)\n",
        "\n",
        "# release the file pointers\n",
        "print(\"[INFO] cleaning up...\")\n",
        "writer.release()\n",
        "vs.release()"
      ],
      "execution_count": null,
      "outputs": []
    },
    {
      "cell_type": "markdown",
      "metadata": {
        "id": "kTmKI1XuZ4Xa"
      },
      "source": [
        "The above code block takes a while to complete its execution. If you are interested to view the video within Colab just execute the following code blocks. Note that it may be time-consuming. \n",
        "\n",
        "Our output video is produced in `.avi` format. First, we need to convert it to `.mp4` format. "
      ]
    },
    {
      "cell_type": "code",
      "metadata": {
        "id": "v_BU3eRoVgvY"
      },
      "source": [
        "!ffmpeg -i \"output.avi\" output.mp4"
      ],
      "execution_count": null,
      "outputs": []
    },
    {
      "cell_type": "code",
      "metadata": {
        "id": "U7ZUEduqZQnq",
        "cellView": "form"
      },
      "source": [
        "#@title Display video inline\n",
        "from IPython.display import HTML\n",
        "from base64 import b64encode\n",
        "\n",
        "mp4 = open(\"output.mp4\", \"rb\").read()\n",
        "dataURL = \"data:video/mp4;base64,\" + b64encode(mp4).decode()\n",
        "HTML(\"\"\"\n",
        "<video width=700 controls>\n",
        "      <source src=\"%s\" type=\"video/mp4\">\n",
        "</video>\n",
        "\"\"\" % dataURL)"
      ],
      "execution_count": null,
      "outputs": []
    },
    {
      "cell_type": "markdown",
      "metadata": {
        "id": "JcXyaa3EZ72O"
      },
      "source": [
        "This code is referred from [this StackOverflow thread](https://stackoverflow.com/a/57378660/7636462). "
      ]
    },
    {
      "cell_type": "markdown",
      "metadata": {
        "id": "iIK0y_52aETm"
      },
      "source": [
        "For a detailed walkthrough of the concepts and code, be sure to refer to the full tutorial, [*Detecting ArUco markers with OpenCV and Python*](https://www.pyimagesearch.com/2020/12/21/detecting-aruco-markers-with-opencv-and-python/) blog post published on 12-21-2020."
      ]
    }
  ]
}