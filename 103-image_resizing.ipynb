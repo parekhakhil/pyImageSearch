{
  "nbformat": 4,
  "nbformat_minor": 0,
  "metadata": {
    "colab": {
      "name": "Copy of opencv_resizing.ipynb",
      "provenance": [],
      "collapsed_sections": [],
      "toc_visible": true,
      "include_colab_link": true
    },
    "kernelspec": {
      "name": "python3",
      "display_name": "Python 3"
    }
  },
  "cells": [
    {
      "cell_type": "markdown",
      "metadata": {
        "id": "view-in-github",
        "colab_type": "text"
      },
      "source": [
        "<a href=\"https://colab.research.google.com/github/parekhakhil/pyImageSearch/blob/main/103-image_resizing.ipynb\" target=\"_parent\"><img src=\"https://colab.research.google.com/assets/colab-badge.svg\" alt=\"Open In Colab\"/></a>"
      ]
    },
    {
      "cell_type": "markdown",
      "metadata": {
        "id": "c7uPgNc0NyO7"
      },
      "source": [
        "# OpenCV Resize Image ( cv2.resize )\n",
        "\n"
      ]
    },
    {
      "cell_type": "markdown",
      "metadata": {
        "id": "Mpthbjs-N2qJ"
      },
      "source": [
        "\n",
        "This notebook is associated with the [OpenCV Resize Image ( cv2.resize )](https://www.pyimagesearch.com/2021/01/20/opencv-resize-image-cv2-resize/) blog post published on 01-20-2021.\n",
        "\n",
        "Only the code for the blog post is here. Most codeblocks have a 1:1 relationship with what you find in the blog post with two exceptions: (1) Python classes are not separate files as they are typically organized with PyImageSearch projects, and (2) Command Line Argument parsing is replaced with an `args` dictionary that you can manipulate as needed.\n",
        "\n",
        "We recommend that you execute (press ▶️) the code block-by-block, as-is, before adjusting parameters and `args` inputs. Once you've verified that the code is working, you are welcome to hack with it and learn from manipulating inputs, settings, and parameters. For more information on using Jupyter and Colab, please refer to these resources:\n",
        "\n",
        "*   [Jupyter Notebook User Interface](https://jupyter-notebook.readthedocs.io/en/stable/notebook.html#notebook-user-interface)\n",
        "*   [Overview of Google Colaboratory Features](https://colab.research.google.com/notebooks/basic_features_overview.ipynb)\n",
        "\n",
        "\n",
        "Happy hacking!\n",
        "\n",
        "*Akhil*"
      ]
    },
    {
      "cell_type": "markdown",
      "metadata": {
        "id": "0pL5rHGgOAMk"
      },
      "source": [
        "### Download the code zip file"
      ]
    },
    {
      "cell_type": "code",
      "metadata": {
        "id": "uEZbwcwepI9V"
      },
      "source": [
        "!wget https://pyimagesearch-code-downloads.s3-us-west-2.amazonaws.com/opencv-resizing/opencv-resizing.zip\n",
        "!unzip -qq opencv-resizing.zip\n",
        "%cd opencv-resizing"
      ],
      "execution_count": null,
      "outputs": []
    },
    {
      "cell_type": "markdown",
      "metadata": {
        "id": "8yYRCnThOQXl"
      },
      "source": [
        "## Blog Post Code"
      ]
    },
    {
      "cell_type": "markdown",
      "metadata": {
        "id": "BcmY4DDJOSIt"
      },
      "source": [
        "### Import Packages"
      ]
    },
    {
      "cell_type": "code",
      "metadata": {
        "id": "BlcPho8lOOuF"
      },
      "source": [
        "# import the necessary packages\n",
        "import matplotlib.pyplot as plt\n",
        "import argparse\n",
        "import imutils\n",
        "import cv2"
      ],
      "execution_count": null,
      "outputs": []
    },
    {
      "cell_type": "markdown",
      "metadata": {
        "id": "uY1ceK63OuFY"
      },
      "source": [
        "### Function to display images in Jupyter Notebooks and Google Colab"
      ]
    },
    {
      "cell_type": "code",
      "metadata": {
        "id": "gkPDb7emOuwQ"
      },
      "source": [
        "def plt_imshow(title, image):\n",
        "    # convert the image frame BGR to RGB color space and display it\n",
        "\timage = cv2.cvtColor(image, cv2.COLOR_BGR2RGB)\n",
        "\tplt.imshow(image)\n",
        "\tplt.title(title)\n",
        "\tplt.grid(False)\n",
        "\tplt.show()"
      ],
      "execution_count": null,
      "outputs": []
    },
    {
      "cell_type": "markdown",
      "metadata": {
        "id": "DgaM1Gy4Styv"
      },
      "source": [
        "### Implementing basic image resizing with OpenCV"
      ]
    },
    {
      "cell_type": "code",
      "metadata": {
        "id": "diZ5qxvYSyUT"
      },
      "source": [
        "# # construct the argument parser and parse the arguments\n",
        "# ap = argparse.ArgumentParser()\n",
        "# ap.add_argument(\"-i\", \"--image\", type=str, default=\"adrian.png\",\n",
        "# \thelp=\"path to the input image\")\n",
        "# args = vars(ap.parse_args())\n",
        "\n",
        "# since we are using Jupyter Notebooks we can replace our argument\n",
        "# parsing code with *hard coded* arguments and values\n",
        "args = {\n",
        "    \"image\": \"adrian.png\"\n",
        "}"
      ],
      "execution_count": null,
      "outputs": []
    },
    {
      "cell_type": "code",
      "metadata": {
        "id": "GkgiFwtoS6rk"
      },
      "source": [
        "# load the original input image and display it to our screen\n",
        "image = cv2.imread(args[\"image\"])\n",
        "plt_imshow(\"Original\", image)\n",
        "\n",
        "# let's resize our image to be 150 pixels wide, but in order to\n",
        "# prevent our resized image from being skewed/distorted, we must\n",
        "# first calculate the ratio of the *new* width to the *old* width\n",
        "r = 150.0 / image.shape[1]\n",
        "dim = (150, int(image.shape[0] * r))\n",
        "\n",
        "# perform the actual resizing of the image\n",
        "resized = cv2.resize(image, dim, interpolation=cv2.INTER_AREA)\n",
        "plt_imshow(\"Resized (Width)\", resized)"
      ],
      "execution_count": null,
      "outputs": []
    },
    {
      "cell_type": "code",
      "metadata": {
        "id": "ORkobHoUS-pc"
      },
      "source": [
        "# let's resize the image to have a width of 50 pixels, again keeping\n",
        "# in mind the aspect ratio\n",
        "r = 50.0 / image.shape[0]\n",
        "dim = (int(image.shape[1] * r), 50)\n",
        "\n",
        "# perform the resizing\n",
        "resized = cv2.resize(image, dim, interpolation=cv2.INTER_AREA)\n",
        "plt_imshow(\"Resized (Height)\", resized)"
      ],
      "execution_count": null,
      "outputs": []
    },
    {
      "cell_type": "code",
      "metadata": {
        "id": "5uwuHLG9TEjr"
      },
      "source": [
        "# calculating the ratio each and every time we want to resize an\n",
        "# image is a real pain, so let's use the imutils convenience\n",
        "# function which will *automatically* maintain our aspect ratio\n",
        "# for us\n",
        "resized = imutils.resize(image, width=100)\n",
        "plt_imshow(\"Resized via imutils\", resized)"
      ],
      "execution_count": null,
      "outputs": []
    },
    {
      "cell_type": "markdown",
      "metadata": {
        "id": "6pXy8QKSTRsm"
      },
      "source": [
        "### Comparing OpenCV interpolation methods\n"
      ]
    },
    {
      "cell_type": "code",
      "metadata": {
        "id": "EFo7fN-UTH1b"
      },
      "source": [
        "# construct the list of interpolation methods in OpenCV\n",
        "methods = [\n",
        "\t(\"cv2.INTER_NEAREST\", cv2.INTER_NEAREST),\n",
        "\t(\"cv2.INTER_LINEAR\", cv2.INTER_LINEAR),\n",
        "\t(\"cv2.INTER_AREA\", cv2.INTER_AREA),\n",
        "\t(\"cv2.INTER_CUBIC\", cv2.INTER_CUBIC),\n",
        "\t(\"cv2.INTER_LANCZOS4\", cv2.INTER_LANCZOS4)]\n",
        "\n",
        "# loop over the interpolation methods\n",
        "for (name, method) in methods:\n",
        "\t# increase the size of the image by 3x using the current\n",
        "\t# interpolation method\n",
        "\tprint(\"[INFO] {}\".format(name))\n",
        "\tresized = imutils.resize(image, width=image.shape[1] * 3,\n",
        "\t\tinter=method)\n",
        "\tplt_imshow(\"Method: {}\".format(name), resized)"
      ],
      "execution_count": null,
      "outputs": []
    },
    {
      "cell_type": "markdown",
      "metadata": {
        "id": "iIK0y_52aETm"
      },
      "source": [
        "For a detailed walkthrough of the concepts and code, be sure to refer to the full tutorial, [OpenCV Resize Image ( cv2.resize )](https://www.pyimagesearch.com/2021/01/20/opencv-resize-image-cv2-resize/) published on 01-20-2021."
      ]
    }
  ]
}