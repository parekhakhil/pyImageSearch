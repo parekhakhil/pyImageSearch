{
  "nbformat": 4,
  "nbformat_minor": 0,
  "metadata": {
    "colab": {
      "name": "501-python_apriltag.ipynb",
      "provenance": [],
      "collapsed_sections": [],
      "include_colab_link": true
    },
    "kernelspec": {
      "name": "python3",
      "display_name": "Python 3"
    }
  },
  "cells": [
    {
      "cell_type": "markdown",
      "metadata": {
        "id": "view-in-github",
        "colab_type": "text"
      },
      "source": [
        "<a href=\"https://colab.research.google.com/github/parekhakhil/pyImageSearch/blob/main/501_python_apriltag.ipynb\" target=\"_parent\"><img src=\"https://colab.research.google.com/assets/colab-badge.svg\" alt=\"Open In Colab\"/></a>"
      ]
    },
    {
      "cell_type": "markdown",
      "metadata": {
        "id": "pGB7ghYeRHsA"
      },
      "source": [
        "# AprilTag with Python\n",
        "\n"
      ]
    },
    {
      "cell_type": "markdown",
      "metadata": {
        "id": "SjUC1zgNRXmw"
      },
      "source": [
        "\n",
        "This notebook is associated with the [AprilTag with Python](https://www.pyimagesearch.com/2020/11/02/apriltag-with-python/) blog post published on 11-02-20.\n",
        "\n",
        "Only the code for the blog post is here. Most codeblocks have a 1:1 relationship with what you find in the blog post with two exceptions: (1) Python classes are not separate files as they are typically organized with PyImageSearch projects, and (2) Command Line Argument parsing is replaced with an `args` dictionary that you can manipulate as needed.\n",
        "\n",
        "We recommend that you execute (press ▶️) the code block-by-block, as-is, before adjusting parameters and `args` inputs. Once you've verified that the code is working, you are welcome to hack with it and learn from manipulating inputs, settings, and parameters. For more information on using Jupyter and Colab, please refer to these resources:\n",
        "\n",
        "*   [Jupyter Notebook User Interface](https://jupyter-notebook.readthedocs.io/en/stable/notebook.html#notebook-user-interface)\n",
        "*   [Overview of Google Colaboratory Features](https://colab.research.google.com/notebooks/basic_features_overview.ipynb)\n",
        "\n",
        "\n",
        "Happy hacking!\n",
        "\n",
        "\n",
        "<hr>\n"
      ]
    },
    {
      "cell_type": "markdown",
      "metadata": {
        "id": "ZY4l5Bs8RwO6"
      },
      "source": [
        "### Install the necessary packages"
      ]
    },
    {
      "cell_type": "code",
      "metadata": {
        "id": "qh6_ChdSR19_"
      },
      "source": [
        "!pip install apriltag"
      ],
      "execution_count": null,
      "outputs": []
    },
    {
      "cell_type": "markdown",
      "metadata": {
        "id": "8Rllb5HER6mI"
      },
      "source": [
        "### Download the code zip file"
      ]
    },
    {
      "cell_type": "code",
      "metadata": {
        "id": "7riYwdhjPc6a"
      },
      "source": [
        "!wget https://pyimagesearch-code-downloads.s3-us-west-2.amazonaws.com/python-apriltag/python-apriltag.zip\n",
        "!unzip -qq python-apriltag.zip\n",
        "%cd python-apriltag"
      ],
      "execution_count": null,
      "outputs": []
    },
    {
      "cell_type": "markdown",
      "metadata": {
        "id": "mAXMOkb2SELL"
      },
      "source": [
        "## Blog Post Code"
      ]
    },
    {
      "cell_type": "markdown",
      "metadata": {
        "id": "arlbRe__SGoU"
      },
      "source": [
        "### Import Packages"
      ]
    },
    {
      "cell_type": "code",
      "metadata": {
        "id": "xhkI9oGsSOBh"
      },
      "source": [
        "# import the necessary packages\n",
        "import matplotlib.pyplot as plt\n",
        "import apriltag\n",
        "import argparse\n",
        "import cv2"
      ],
      "execution_count": null,
      "outputs": []
    },
    {
      "cell_type": "markdown",
      "metadata": {
        "id": "5Sl-xfCoSU44"
      },
      "source": [
        "### Function to display images in Jupyter Notebooks and Google Colab"
      ]
    },
    {
      "cell_type": "code",
      "metadata": {
        "id": "fmxGKmZDSOk3"
      },
      "source": [
        "def plt_imshow(title, image):\n",
        "\t# convert the image frame BGR to RGB color space and display it\n",
        "\timage = cv2.cvtColor(image, cv2.COLOR_BGR2RGB)\n",
        "\tplt.imshow(image)\n",
        "\tplt.title(title)\n",
        "\tplt.grid(False)\n",
        "\tplt.show()"
      ],
      "execution_count": null,
      "outputs": []
    },
    {
      "cell_type": "markdown",
      "metadata": {
        "id": "fmQQbEHwSkkk"
      },
      "source": [
        "### Implementing AprilTag detection with Python"
      ]
    },
    {
      "cell_type": "code",
      "metadata": {
        "id": "Y6Qe0ITHSbH5"
      },
      "source": [
        "# # construct the argument parser and parse the arguments\n",
        "# ap = argparse.ArgumentParser()\n",
        "# ap.add_argument(\"-i\", \"--image\", required=True,\n",
        "# \thelp=\"path to input image containing AprilTag\")\n",
        "# args = vars(ap.parse_args())\n",
        "\n",
        "# since we are using Jupyter Notebooks we can replace our argument\n",
        "# parsing code with *hard coded* arguments and values\n",
        "args = {\n",
        "\t\"image\": \"images/example_02.png\"\n",
        "}"
      ],
      "execution_count": null,
      "outputs": []
    },
    {
      "cell_type": "code",
      "metadata": {
        "id": "Ie7oMtK8Sxzk"
      },
      "source": [
        "# load the input image and convert it to grayscale\n",
        "print(\"[INFO] loading image...\")\n",
        "image = cv2.imread(args[\"image\"])\n",
        "gray = cv2.cvtColor(image, cv2.COLOR_BGR2GRAY)"
      ],
      "execution_count": null,
      "outputs": []
    },
    {
      "cell_type": "code",
      "metadata": {
        "id": "gZVuAkycS1K0"
      },
      "source": [
        "# define the AprilTags detector options and then detect the AprilTags\n",
        "# in the input image\n",
        "print(\"[INFO] detecting AprilTags...\")\n",
        "options = apriltag.DetectorOptions(families=\"tag36h11\")\n",
        "detector = apriltag.Detector(options)\n",
        "results = detector.detect(gray)\n",
        "print(\"[INFO] {} total AprilTags detected\".format(len(results)))"
      ],
      "execution_count": null,
      "outputs": []
    },
    {
      "cell_type": "code",
      "metadata": {
        "id": "z5pEbtvpS8c1"
      },
      "source": [
        "# loop over the AprilTag detection results\n",
        "for r in results:\n",
        "\t# extract the bounding box (x, y)-coordinates for the AprilTag\n",
        "\t# and convert each of the (x, y)-coordinate pairs to integers\n",
        "\t(ptA, ptB, ptC, ptD) = r.corners\n",
        "\tptB = (int(ptB[0]), int(ptB[1]))\n",
        "\tptC = (int(ptC[0]), int(ptC[1]))\n",
        "\tptD = (int(ptD[0]), int(ptD[1]))\n",
        "\tptA = (int(ptA[0]), int(ptA[1]))\n",
        "\n",
        "\t# draw the bounding box of the AprilTag detection\n",
        "\tcv2.line(image, ptA, ptB, (0, 255, 0), 2)\n",
        "\tcv2.line(image, ptB, ptC, (0, 255, 0), 2)\n",
        "\tcv2.line(image, ptC, ptD, (0, 255, 0), 2)\n",
        "\tcv2.line(image, ptD, ptA, (0, 255, 0), 2)\n",
        "\n",
        "\t# draw the center (x, y)-coordinates of the AprilTag\n",
        "\t(cX, cY) = (int(r.center[0]), int(r.center[1]))\n",
        "\tcv2.circle(image, (cX, cY), 5, (0, 0, 255), -1)\n",
        "\n",
        "\t# draw the tag family on the image\n",
        "\ttagFamily = r.tag_family.decode(\"utf-8\")\n",
        "\tcv2.putText(image, tagFamily, (ptA[0], ptA[1] - 15),\n",
        "\t\tcv2.FONT_HERSHEY_SIMPLEX, 0.5, (0, 255, 0), 2)\n",
        "\tprint(\"[INFO] tag family: {}\".format(tagFamily))\n",
        " \n",
        " # show the output image after AprilTag detection\n",
        "plt_imshow(\"Image\", image)"
      ],
      "execution_count": null,
      "outputs": []
    },
    {
      "cell_type": "markdown",
      "metadata": {
        "id": "D0SwqbOHTq6l"
      },
      "source": [
        "For a detailed walkthrough of the concepts and code, be sure to refer to the full tutorial, [*AprilTag with Python*](https://www.pyimagesearch.com/2020/11/02/apriltag-with-python/) blog post published on 11-02-20."
      ]
    }
  ]
}