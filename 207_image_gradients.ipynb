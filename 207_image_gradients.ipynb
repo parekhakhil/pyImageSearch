{
  "nbformat": 4,
  "nbformat_minor": 0,
  "metadata": {
    "colab": {
      "name": "207-image_gradients.ipynb",
      "provenance": [],
      "collapsed_sections": [],
      "toc_visible": true,
      "include_colab_link": true
    },
    "kernelspec": {
      "name": "python3",
      "display_name": "Python 3"
    },
    "language_info": {
      "name": "python"
    }
  },
  "cells": [
    {
      "cell_type": "markdown",
      "metadata": {
        "id": "view-in-github",
        "colab_type": "text"
      },
      "source": [
        "<a href=\"https://colab.research.google.com/github/parekhakhil/pyImageSearch/blob/main/207_image_gradients.ipynb\" target=\"_parent\"><img src=\"https://colab.research.google.com/assets/colab-badge.svg\" alt=\"Open In Colab\"/></a>"
      ]
    },
    {
      "cell_type": "markdown",
      "metadata": {
        "id": "j4RpK9pawQzP"
      },
      "source": [
        "# Image Gradients with OpenCV (Sobel and Scharr)\n"
      ]
    },
    {
      "cell_type": "markdown",
      "metadata": {
        "id": "8ntZ1AkXZIxY"
      },
      "source": [
        "\n",
        "\n",
        "This notebook is associated with the [Image Gradients with OpenCV (Sobel and Scharr)](https://www.pyimagesearch.com/2021/05/12/image-gradients-with-opencv-sobel-and-scharr/) blog post published on 2021-05-12.\n",
        "\n",
        "Only the code for the blog post is here. Most codeblocks have a 1:1 relationship with what you find in the blog post with two exceptions: (1) Python classes are not separate files as they are typically organized with PyImageSearch projects, and (2) Command Line Argument parsing is replaced with an `args` dictionary that you can manipulate as needed.\n",
        "\n",
        "We recommend that you execute (press ▶️) the code block-by-block, as-is, before adjusting parameters and `args` inputs. Once you've verified that the code is working, you are welcome to hack with it and learn from manipulating inputs, settings, and parameters. For more information on using Jupyter and Colab, please refer to these resources:\n",
        "\n",
        "*   [Jupyter Notebook User Interface](https://jupyter-notebook.readthedocs.io/en/stable/notebook.html#notebook-user-interface)\n",
        "*   [Overview of Google Colaboratory Features](https://colab.research.google.com/notebooks/basic_features_overview.ipynb)\n",
        "\n",
        "\n",
        "Happy hacking!\n",
        "\n",
        "<hr>\n",
        "\n"
      ]
    },
    {
      "cell_type": "markdown",
      "metadata": {
        "id": "NFhAzQB3aNMa"
      },
      "source": [
        "### Download the code zip file"
      ]
    },
    {
      "cell_type": "code",
      "metadata": {
        "id": "7y0LG1EuaRlB"
      },
      "source": [
        "!wget https://pyimagesearch-code-downloads.s3-us-west-2.amazonaws.com/image-gradients/image-gradients.zip\n",
        "!unzip -qq image-gradients.zip\n",
        "%cd image-gradients"
      ],
      "execution_count": null,
      "outputs": []
    },
    {
      "cell_type": "markdown",
      "metadata": {
        "id": "_SgTVT3HagGZ"
      },
      "source": [
        "## Blog Post Code"
      ]
    },
    {
      "cell_type": "markdown",
      "metadata": {
        "id": "wcrOk6pURp50"
      },
      "source": [
        "### Import Packages"
      ]
    },
    {
      "cell_type": "code",
      "metadata": {
        "id": "VJaCNlDDRz6d"
      },
      "source": [
        "# import the necessary packages\n",
        "import matplotlib.pyplot as plt\n",
        "import numpy as np\n",
        "import cv2"
      ],
      "execution_count": null,
      "outputs": []
    },
    {
      "cell_type": "markdown",
      "metadata": {
        "id": "lBrLwCtN5kqy"
      },
      "source": [
        "### Function to display images in Jupyter Notebooks and Google Colab"
      ]
    },
    {
      "cell_type": "code",
      "metadata": {
        "id": "sYaD_Es9-8y6"
      },
      "source": [
        "def plt_imshow(title, image):\n",
        "\t# convert the image frame BGR to RGB color space and display it\n",
        "\timage = cv2.cvtColor(image, cv2.COLOR_BGR2RGB)\n",
        "\tplt.imshow(image)\n",
        "\tplt.title(title)\n",
        "\tplt.grid(False)\n",
        "\tplt.show()"
      ],
      "execution_count": null,
      "outputs": []
    },
    {
      "cell_type": "markdown",
      "metadata": {
        "id": "xst3eUidYbOM"
      },
      "source": [
        "### Implementing Sobel and Scharr kernels with OpenCV"
      ]
    },
    {
      "cell_type": "code",
      "metadata": {
        "id": "UAIp1ELqXa2d"
      },
      "source": [
        "# # construct the argument parser and parse the arguments\n",
        "# ap = argparse.ArgumentParser()\n",
        "# ap.add_argument(\"-i\", \"--image\", type=str, required=True,\n",
        "# \thelp=\"path to input image\")\n",
        "# ap.add_argument(\"-s\", \"--scharr\", type=int, default=0,\n",
        "# \thelp=\"path to input image\")\n",
        "\n",
        "# since we are using Jupyter Notebooks we can replace our argument\n",
        "# parsing code with *hard coded* arguments and values\n",
        "args = {\n",
        "\t\"image\": \"images/coins01.png\",\n",
        "    \"scharr\": 0\n",
        "}"
      ],
      "execution_count": null,
      "outputs": []
    },
    {
      "cell_type": "code",
      "metadata": {
        "id": "fN2c5IhsYrgs"
      },
      "source": [
        "# load the image, convert it to grayscale, and display the original\n",
        "# grayscale image\n",
        "image = cv2.imread(args[\"image\"])\n",
        "gray = cv2.cvtColor(image, cv2.COLOR_BGR2GRAY)\n",
        "plt_imshow(\"Gray\", gray)"
      ],
      "execution_count": null,
      "outputs": []
    },
    {
      "cell_type": "code",
      "metadata": {
        "id": "DFJivN6yYwZB"
      },
      "source": [
        "# set the kernel size, depending on whether we are using the Sobel\n",
        "# operator of the Scharr operator, then compute the gradients along\n",
        "# the x and y axis, respectively\n",
        "ksize = -1 if args[\"scharr\"] > 0 else 3\n",
        "gX = cv2.Sobel(gray, ddepth=cv2.CV_32F, dx=1, dy=0, ksize=ksize)\n",
        "gY = cv2.Sobel(gray, ddepth=cv2.CV_32F, dx=0, dy=1, ksize=ksize)\n",
        "\n",
        "# the gradient magnitude images are now of the floating point data\n",
        "# type, so we need to take care to convert them back a to unsigned\n",
        "# 8-bit integer representation so other OpenCV functions can operate\n",
        "# on them and visualize them\n",
        "gX = cv2.convertScaleAbs(gX)\n",
        "gY = cv2.convertScaleAbs(gY)\n",
        "\n",
        "# combine the gradient representations into a single image\n",
        "combined = cv2.addWeighted(gX, 0.5, gY, 0.5, 0)\n",
        "\n",
        "# show our output images\n",
        "plt_imshow(\"Sobel/Scharr X\", gX)\n",
        "plt_imshow(\"Sobel/Scharr Y\", gY)\n",
        "plt_imshow(\"Sobel/Scharr Combined\", combined)"
      ],
      "execution_count": null,
      "outputs": []
    },
    {
      "cell_type": "markdown",
      "metadata": {
        "id": "HSXSpgw5Y-zf"
      },
      "source": [
        "### Computing gradient magnitude and orientation with OpenCV"
      ]
    },
    {
      "cell_type": "code",
      "metadata": {
        "id": "soh5yreRY5kp"
      },
      "source": [
        "# load the input image and convert it to grayscale\n",
        "image = cv2.imread(args[\"image\"])\n",
        "gray = cv2.cvtColor(image, cv2.COLOR_BGR2GRAY)\n",
        "\n",
        "# compute gradients along the x and y axis, respectively\n",
        "gX = cv2.Sobel(gray, cv2.CV_64F, 1, 0)\n",
        "gY = cv2.Sobel(gray, cv2.CV_64F, 0, 1)\n",
        "\n",
        "# compute the gradient magnitude and orientation\n",
        "magnitude = np.sqrt((gX ** 2) + (gY ** 2))\n",
        "orientation = np.arctan2(gY, gX) * (180 / np.pi) % 180"
      ],
      "execution_count": null,
      "outputs": []
    },
    {
      "cell_type": "code",
      "metadata": {
        "id": "UrllQ3aHZHcZ"
      },
      "source": [
        "# initialize a figure to display the input grayscale image along with\n",
        "# the gradient magnitude and orientation representations, respectively\n",
        "(fig, axs) = plt.subplots(nrows=1, ncols=3, figsize=(8, 4))\n",
        "\n",
        "# plot each of the images\n",
        "axs[0].imshow(gray, cmap=\"gray\")\n",
        "axs[1].imshow(magnitude, cmap=\"jet\")\n",
        "axs[2].imshow(orientation, cmap=\"jet\")\n",
        "\n",
        "# set the titles of each axes\n",
        "axs[0].set_title(\"Grayscale\")\n",
        "axs[1].set_title(\"Gradient Magnitude\")\n",
        "axs[2].set_title(\"Gradient Orientation [0, 180]\")\n",
        "\n",
        "# loop over each of the axes and turn off the x and y ticks\n",
        "for i in range(0, 3):\n",
        "\taxs[i].get_xaxis().set_ticks([])\n",
        "\taxs[i].get_yaxis().set_ticks([])\n",
        "\n",
        "# show the plots\n",
        "plt.tight_layout()\n",
        "plt.show()"
      ],
      "execution_count": null,
      "outputs": []
    },
    {
      "cell_type": "markdown",
      "metadata": {
        "id": "4ogkNauArL6u"
      },
      "source": [
        "For a detailed walkthrough of the concepts and code, be sure to refer to the full tutorial, [Image Gradients with OpenCV (Sobel and Scharr)](https://www.pyimagesearch.com/2021/05/12/image-gradients-with-opencv-sobel-and-scharr/) published on 2021-05-12."
      ]
    }
  ]
}