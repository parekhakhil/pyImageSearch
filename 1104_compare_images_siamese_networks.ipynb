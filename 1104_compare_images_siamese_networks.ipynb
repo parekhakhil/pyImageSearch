{
  "nbformat": 4,
  "nbformat_minor": 0,
  "metadata": {
    "colab": {
      "name": "1104-compare_images_siamese_networks.ipynb",
      "provenance": [],
      "collapsed_sections": [],
      "include_colab_link": true
    },
    "kernelspec": {
      "name": "python3",
      "display_name": "Python 3"
    },
    "accelerator": "GPU"
  },
  "cells": [
    {
      "cell_type": "markdown",
      "metadata": {
        "id": "view-in-github",
        "colab_type": "text"
      },
      "source": [
        "<a href=\"https://colab.research.google.com/github/parekhakhil/pyImageSearch/blob/main/1104_compare_images_siamese_networks.ipynb\" target=\"_parent\"><img src=\"https://colab.research.google.com/assets/colab-badge.svg\" alt=\"Open In Colab\"/></a>"
      ]
    },
    {
      "cell_type": "markdown",
      "metadata": {
        "id": "NS3f6TEA9YFg"
      },
      "source": [
        "# Comparing images for similarity using siamese networks, Keras, and TensorFlow\n",
        "\n"
      ]
    },
    {
      "cell_type": "markdown",
      "metadata": {
        "id": "LeP1x1yK9fjB"
      },
      "source": [
        "\n",
        "This notebook is associated with the [Comparing images for similarity using siamese networks, Keras, and TensorFlow](https://www.pyimagesearch.com/2020/12/07/comparing-images-for-similarity-using-siamese-networks-keras-and-tensorflow/) blog post published on 12-07-20.\n",
        "\n",
        "Only the code for the blog post is here. Most codeblocks have a 1:1 relationship with what you find in the blog post with two exceptions: (1) Python classes are not separate files as they are typically organized with PyImageSearch projects, and (2) Command Line Argument parsing is replaced with an `args` dictionary that you can manipulate as needed.\n",
        "\n",
        "We recommend that you execute (press ▶️) the code block-by-block, as-is, before adjusting parameters and `args` inputs. Once you've verified that the code is working, you are welcome to hack with it and learn from manipulating inputs, settings, and parameters. For more information on using Jupyter and Colab, please refer to these resources:\n",
        "\n",
        "*   [Jupyter Notebook User Interface](https://jupyter-notebook.readthedocs.io/en/stable/notebook.html#notebook-user-interface)\n",
        "*   [Overview of Google Colaboratory Features](https://colab.research.google.com/notebooks/basic_features_overview.ipynb)\n",
        "\n",
        "Happy hacking!\n",
        "\n",
        "\n",
        "<hr>\n",
        "\n"
      ]
    },
    {
      "cell_type": "markdown",
      "metadata": {
        "id": "RpuM4JQK-ecz"
      },
      "source": [
        "### Install the necessary packages"
      ]
    },
    {
      "cell_type": "code",
      "metadata": {
        "id": "qdtSckfk-hua"
      },
      "source": [
        "!pip install tensorflow==2.3.0"
      ],
      "execution_count": null,
      "outputs": []
    },
    {
      "cell_type": "markdown",
      "metadata": {
        "id": "3_lvhD4o9oGJ"
      },
      "source": [
        "### Download the code zip file"
      ]
    },
    {
      "cell_type": "code",
      "metadata": {
        "id": "6byP3EAl9AY5"
      },
      "source": [
        "!wget https://pyimagesearch-code-downloads.s3-us-west-2.amazonaws.com/compare-images-siamese-networks/compare-images-siamese-networks.zip\n",
        "!unzip -qq compare-images-siamese-networks.zip\n",
        "%cd compare-images-siamese-networks"
      ],
      "execution_count": null,
      "outputs": []
    },
    {
      "cell_type": "markdown",
      "metadata": {
        "id": "Ch5Fu9OX9yCD"
      },
      "source": [
        "## Blog Post Code"
      ]
    },
    {
      "cell_type": "markdown",
      "metadata": {
        "id": "aifRe2ub91HU"
      },
      "source": [
        "### Import Packages"
      ]
    },
    {
      "cell_type": "code",
      "metadata": {
        "id": "kKec3zy09voQ"
      },
      "source": [
        "# import the necessary packages\n",
        "from pyimagesearch import config\n",
        "from tensorflow.keras.models import load_model\n",
        "from imutils.paths import list_images\n",
        "import matplotlib.pyplot as plt\n",
        "import numpy as np\n",
        "import argparse\n",
        "import cv2"
      ],
      "execution_count": null,
      "outputs": []
    },
    {
      "cell_type": "markdown",
      "metadata": {
        "id": "KoGHQxxeAfkH"
      },
      "source": [
        "### Implementing our siamese network image similarity script"
      ]
    },
    {
      "cell_type": "code",
      "metadata": {
        "id": "7SXN3orIAbCc"
      },
      "source": [
        "# # construct the argument parser and parse the arguments\n",
        "# ap = argparse.ArgumentParser()\n",
        "# ap.add_argument(\"-i\", \"--input\", required=True,\n",
        "# \thelp=\"path to input directory of testing images\")\n",
        "# args = vars(ap.parse_args())\n",
        "\n",
        "# since we are using Jupyter Notebooks we can replace our argument\n",
        "# parsing code with *hard coded* arguments and values\n",
        "args = {\n",
        "\t\"input\": \"examples\"\n",
        "}"
      ],
      "execution_count": null,
      "outputs": []
    },
    {
      "cell_type": "code",
      "metadata": {
        "id": "4eD9_jrpBHCa"
      },
      "source": [
        "# grab the test dataset image paths and then randomly generate a\n",
        "# total of 10 image pairs\n",
        "print(\"[INFO] loading test dataset...\")\n",
        "testImagePaths = list(list_images(args[\"input\"]))\n",
        "np.random.seed(42)\n",
        "pairs = np.random.choice(testImagePaths, size=(10, 2))\n",
        "\n",
        "# load the model from disk\n",
        "print(\"[INFO] loading siamese model...\")\n",
        "model = load_model(config.MODEL_PATH)"
      ],
      "execution_count": null,
      "outputs": []
    },
    {
      "cell_type": "code",
      "metadata": {
        "id": "HMRFqph4_nS4"
      },
      "source": [
        "# loop over all image pairs\n",
        "for (i, (pathA, pathB)) in enumerate(pairs):\n",
        "\t# load both the images and convert them to grayscale\n",
        "\timageA = cv2.imread(pathA, 0)\n",
        "\timageB = cv2.imread(pathB, 0)\n",
        "\n",
        "\t# create a copy of both the images for visualization purpose\n",
        "\torigA = imageA.copy()\n",
        "\torigB = imageB.copy()\n",
        "\n",
        "\t# add channel a dimension to both the images\n",
        "\timageA = np.expand_dims(imageA, axis=-1)\n",
        "\timageB = np.expand_dims(imageB, axis=-1)\n",
        "\n",
        "\t# add a batch dimension to both images\n",
        "\timageA = np.expand_dims(imageA, axis=0)\n",
        "\timageB = np.expand_dims(imageB, axis=0)\n",
        "\n",
        "\t# scale the pixel values to the range of [0, 1]\n",
        "\timageA = imageA / 255.0\n",
        "\timageB = imageB / 255.0\n",
        "\n",
        "\t# use our siamese model to make predictions on the image pair,\n",
        "\t# indicating whether or not the images belong to the same class\n",
        "\tpreds = model.predict([imageA, imageB])\n",
        "\tproba = preds[0][0]\n",
        "\n",
        "\t# initialize the figure\n",
        "\tfig = plt.figure(\"Pair #{}\".format(i + 1), figsize=(4, 2))\n",
        "\tplt.suptitle(\"Similarity: {:.2f}\".format(proba))\n",
        "\n",
        "\t# show first image\n",
        "\tax = fig.add_subplot(1, 2, 1)\n",
        "\tplt.imshow(origA, cmap=plt.cm.gray)\n",
        "\tplt.axis(\"off\")\n",
        "\n",
        "\t# show the second image\n",
        "\tax = fig.add_subplot(1, 2, 2)\n",
        "\tplt.imshow(origB, cmap=plt.cm.gray)\n",
        "\tplt.axis(\"off\")\n",
        "\n",
        "\t# show the plot\n",
        "\tplt.show()"
      ],
      "execution_count": null,
      "outputs": []
    },
    {
      "cell_type": "markdown",
      "metadata": {
        "id": "yebZ6JXU_4Ft"
      },
      "source": [
        "For a detailed walkthrough of the concepts and code, be sure to refer to the full tutorial, [*Comparing images for similarity using siamese networks, Keras, and TensorFlow*](https://www.pyimagesearch.com/2020/12/07/comparing-images-for-similarity-using-siamese-networks-keras-and-tensorflow/) blog post published on 12-07-20."
      ]
    }
  ]
}