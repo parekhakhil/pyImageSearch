{
  "nbformat": 4,
  "nbformat_minor": 0,
  "metadata": {
    "colab": {
      "name": "107-opencv_bitwise.ipynb",
      "provenance": [],
      "collapsed_sections": [],
      "include_colab_link": true
    },
    "kernelspec": {
      "name": "python3",
      "display_name": "Python 3"
    }
  },
  "cells": [
    {
      "cell_type": "markdown",
      "metadata": {
        "id": "view-in-github",
        "colab_type": "text"
      },
      "source": [
        "<a href=\"https://colab.research.google.com/github/parekhakhil/pyImageSearch/blob/main/107_opencv_bitwise.ipynb\" target=\"_parent\"><img src=\"https://colab.research.google.com/assets/colab-badge.svg\" alt=\"Open In Colab\"/></a>"
      ]
    },
    {
      "cell_type": "markdown",
      "metadata": {
        "id": "j4RpK9pawQzP"
      },
      "source": [
        "# OpenCV Bitwise AND, OR, XOR, and NOT\n"
      ]
    },
    {
      "cell_type": "markdown",
      "metadata": {
        "id": "8ntZ1AkXZIxY"
      },
      "source": [
        "## Welcome to **[PyImageSearch Plus](http://pyimg.co/plus)** Jupyter Notebooks!\n",
        "\n",
        "This notebook is associated with the [OpenCV Bitwise AND, OR, XOR, and NOT](https://www.pyimagesearch.com/2021/01/19/opencv-bitwise-and-or-xor-and-not/) blog post published on 01-19-2021.\n",
        "\n",
        "Only the code for the blog post is here. Most codeblocks have a 1:1 relationship with what you find in the blog post with two exceptions: (1) Python classes are not separate files as they are typically organized with PyImageSearch projects, and (2) Command Line Argument parsing is replaced with an `args` dictionary that you can manipulate as needed.\n",
        "\n",
        "We recommend that you execute (press ▶️) the code block-by-block, as-is, before adjusting parameters and `args` inputs. Once you've verified that the code is working, you are welcome to hack with it and learn from manipulating inputs, settings, and parameters. For more information on using Jupyter and Colab, please refer to these resources:\n",
        "\n",
        "*   [Jupyter Notebook User Interface](https://jupyter-notebook.readthedocs.io/en/stable/notebook.html#notebook-user-interface)\n",
        "*   [Overview of Google Colaboratory Features](https://colab.research.google.com/notebooks/basic_features_overview.ipynb)\n",
        " \n",
        "\n",
        "Happy hacking!\n",
        "\n",
        "\n",
        "\n",
        "<hr>\n",
        "\n"
      ]
    },
    {
      "cell_type": "markdown",
      "metadata": {
        "id": "NFhAzQB3aNMa"
      },
      "source": [
        "### Download the code zip file"
      ]
    },
    {
      "cell_type": "code",
      "metadata": {
        "id": "7y0LG1EuaRlB"
      },
      "source": [
        "!wget https://pyimagesearch-code-downloads.s3-us-west-2.amazonaws.com/opencv-bitwise/opencv-bitwise.zip\n",
        "!unzip -qq opencv-bitwise.zip\n",
        "%cd opencv-bitwise.zip"
      ],
      "execution_count": null,
      "outputs": []
    },
    {
      "cell_type": "markdown",
      "metadata": {
        "id": "_SgTVT3HagGZ"
      },
      "source": [
        "## Blog Post Code"
      ]
    },
    {
      "cell_type": "markdown",
      "metadata": {
        "id": "wcrOk6pURp50"
      },
      "source": [
        "### Import Packages"
      ]
    },
    {
      "cell_type": "code",
      "metadata": {
        "id": "VJaCNlDDRz6d"
      },
      "source": [
        "# import the necessary packages\n",
        "from matplotlib import pyplot as plt\n",
        "import numpy as np\n",
        "import cv2"
      ],
      "execution_count": null,
      "outputs": []
    },
    {
      "cell_type": "markdown",
      "metadata": {
        "id": "lBrLwCtN5kqy"
      },
      "source": [
        "### Function to display images in Jupyter Notebooks and Google Colab"
      ]
    },
    {
      "cell_type": "code",
      "metadata": {
        "id": "fRw969Dp5Kdm"
      },
      "source": [
        "def plt_imshow(title, image):\n",
        "\t# convert the image frame BGR to RGB color space and display it\n",
        "\timage = cv2.cvtColor(image, cv2.COLOR_BGR2RGB)\n",
        "\tplt.imshow(image)\n",
        "\tplt.title(title)\n",
        "\tplt.grid(False)\n",
        "\tplt.show()"
      ],
      "execution_count": null,
      "outputs": []
    },
    {
      "cell_type": "markdown",
      "metadata": {
        "id": "wqHP1MnPBCLX"
      },
      "source": [
        "### Implementing OpenCV AND, OR, XOR, and NOT bitwise operators"
      ]
    },
    {
      "cell_type": "code",
      "metadata": {
        "id": "-9UoHbsG_3Qv"
      },
      "source": [
        "# draw a rectangle\n",
        "rectangle = np.zeros((300, 300), dtype=\"uint8\")\n",
        "cv2.rectangle(rectangle, (25, 25), (275, 275), 255, -1)\n",
        "plt_imshow(\"Rectangle\", rectangle)\n",
        "\n",
        "# draw a circle\n",
        "circle = np.zeros((300, 300), dtype = \"uint8\")\n",
        "cv2.circle(circle, (150, 150), 150, 255, -1)\n",
        "plt_imshow(\"Circle\", circle)"
      ],
      "execution_count": null,
      "outputs": []
    },
    {
      "cell_type": "code",
      "metadata": {
        "id": "zDq5smbuBILh"
      },
      "source": [
        "# a bitwise 'AND' is only 'True' when both inputs have a value that\n",
        "# is \"ON' -- in this case, the cv2.bitwise_and function examines\n",
        "# every pixel in the rectangle and circle; if *BOTH* pixels have a\n",
        "# value greater than zero then the pixel is turned 'ON (i.e., 255)\n",
        "# in the output image; otherwise, the output value is set to\n",
        "# 'OFF' (i.e., 0)\n",
        "bitwiseAnd = cv2.bitwise_and(rectangle, circle)\n",
        "plt_imshow(\"AND\", bitwiseAnd)"
      ],
      "execution_count": null,
      "outputs": []
    },
    {
      "cell_type": "code",
      "metadata": {
        "id": "1s8j9h31BNYT"
      },
      "source": [
        "# a bitwise 'OR' examines every pixel in the two inputs, and if\n",
        "# *EITHER* pixel in the rectangle or circle is greater than zero,\n",
        "# then the output pixel has a value of 255, otherwise it is 0\n",
        "bitwiseOr = cv2.bitwise_or(rectangle, circle)\n",
        "plt_imshow(\"OR\", bitwiseOr)"
      ],
      "execution_count": null,
      "outputs": []
    },
    {
      "cell_type": "code",
      "metadata": {
        "id": "ikLIrzexBRPR"
      },
      "source": [
        "# the bitwise 'XOR' is identical to the 'OR' function, with one\n",
        "# exception: both the rectangle and circle are not allowed to *BOTH*\n",
        "# have values greater than 0 (only one can be 0)\n",
        "bitwiseXor = cv2.bitwise_xor(rectangle, circle)\n",
        "plt_imshow(\"XOR\", bitwiseXor)"
      ],
      "execution_count": null,
      "outputs": []
    },
    {
      "cell_type": "code",
      "metadata": {
        "id": "hDOJaJcTBT_4"
      },
      "source": [
        "# finally, the bitwise 'NOT' inverts the values of the pixels; pixels\n",
        "# with a value of 255 become 0, and pixels with a value of 0 become\n",
        "# 255\n",
        "bitwiseNot = cv2.bitwise_not(circle)\n",
        "plt_imshow(\"NOT\", bitwiseNot)"
      ],
      "execution_count": null,
      "outputs": []
    },
    {
      "cell_type": "markdown",
      "metadata": {
        "id": "4ogkNauArL6u"
      },
      "source": [
        "For a detailed walkthrough of the concepts and code, be sure to refer to the full tutorial, [*OpenCV Bitwise AND, OR, XOR, and NOT*](https://www.pyimagesearch.com/2021/01/19/opencv-bitwise-and-or-xor-and-not/) published on 01-19-2021."
      ]
    }
  ]
}