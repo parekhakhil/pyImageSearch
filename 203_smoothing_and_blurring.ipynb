{
  "nbformat": 4,
  "nbformat_minor": 0,
  "metadata": {
    "colab": {
      "name": "203-smoothing_and_blurring.ipynb",
      "provenance": [],
      "collapsed_sections": [],
      "include_colab_link": true
    },
    "kernelspec": {
      "display_name": "Python 3",
      "language": "python",
      "name": "python3"
    },
    "language_info": {
      "codemirror_mode": {
        "name": "ipython",
        "version": 3
      },
      "file_extension": ".py",
      "mimetype": "text/x-python",
      "name": "python",
      "nbconvert_exporter": "python",
      "pygments_lexer": "ipython3",
      "version": "3.8.5"
    }
  },
  "cells": [
    {
      "cell_type": "markdown",
      "metadata": {
        "id": "view-in-github",
        "colab_type": "text"
      },
      "source": [
        "<a href=\"https://colab.research.google.com/github/parekhakhil/pyImageSearch/blob/main/203_smoothing_and_blurring.ipynb\" target=\"_parent\"><img src=\"https://colab.research.google.com/assets/colab-badge.svg\" alt=\"Open In Colab\"/></a>"
      ]
    },
    {
      "cell_type": "markdown",
      "metadata": {
        "id": "j4RpK9pawQzP"
      },
      "source": [
        "# OpenCV Smoothing and Blurring\n"
      ]
    },
    {
      "cell_type": "markdown",
      "metadata": {
        "id": "8ntZ1AkXZIxY"
      },
      "source": [
        "\n",
        "\n",
        "This notebook is associated with the [OpenCV Smoothing and Blurring](https://www.pyimagesearch.com/2021/04/28/opencv-smoothing-and-blurring/) blog post published on 2021-04-28.\n",
        "\n",
        "Only the code for the blog post is here. Most codeblocks have a 1:1 relationship with what you find in the blog post with two exceptions: (1) Python classes are not separate files as they are typically organized with PyImageSearch projects, and (2) Command Line Argument parsing is replaced with an `args` dictionary that you can manipulate as needed.\n",
        "\n",
        "We recommend that you execute (press ▶️) the code block-by-block, as-is, before adjusting parameters and `args` inputs. Once you've verified that the code is working, you are welcome to hack with it and learn from manipulating inputs, settings, and parameters. For more information on using Jupyter and Colab, please refer to these resources:\n",
        "\n",
        "*   [Jupyter Notebook User Interface](https://jupyter-notebook.readthedocs.io/en/stable/notebook.html#notebook-user-interface)\n",
        "*   [Overview of Google Colaboratory Features](https://colab.research.google.com/notebooks/basic_features_overview.ipynb)\n",
        "\n",
        "Happy hacking!\n",
        "\n",
        "\n",
        "\n",
        "<hr>\n"
      ]
    },
    {
      "cell_type": "markdown",
      "metadata": {
        "id": "NFhAzQB3aNMa"
      },
      "source": [
        "### Download the code zip file"
      ]
    },
    {
      "cell_type": "code",
      "metadata": {
        "id": "7y0LG1EuaRlB"
      },
      "source": [
        "!wget https://pyimagesearch-code-downloads.s3-us-west-2.amazonaws.com/smoothing-and-blurring/smoothing-and-blurring.zip\n",
        "!unzip -qq smoothing-and-blurring.zip\n",
        "%cd smoothing-and-blurring"
      ],
      "execution_count": null,
      "outputs": []
    },
    {
      "cell_type": "markdown",
      "metadata": {
        "id": "_SgTVT3HagGZ"
      },
      "source": [
        "## Blog Post Code"
      ]
    },
    {
      "cell_type": "markdown",
      "metadata": {
        "id": "wcrOk6pURp50"
      },
      "source": [
        "### Import Packages"
      ]
    },
    {
      "cell_type": "code",
      "metadata": {
        "id": "VJaCNlDDRz6d"
      },
      "source": [
        "# import the necessary packages\n",
        "from matplotlib import pyplot as plt\n",
        "import argparse\n",
        "import cv2"
      ],
      "execution_count": null,
      "outputs": []
    },
    {
      "cell_type": "markdown",
      "metadata": {
        "id": "lBrLwCtN5kqy"
      },
      "source": [
        "### Function to display images in Jupyter Notebooks and Google Colab"
      ]
    },
    {
      "cell_type": "code",
      "metadata": {
        "id": "fRw969Dp5Kdm"
      },
      "source": [
        "def plt_imshow(title, image):\n",
        "\t# convert the image frame BGR to RGB color space and display it\n",
        "\timage = cv2.cvtColor(image, cv2.COLOR_BGR2RGB)\n",
        "\tplt.imshow(image)\n",
        "\tplt.title(title)\n",
        "\tplt.grid(False)\n",
        "\tplt.show()"
      ],
      "execution_count": null,
      "outputs": []
    },
    {
      "cell_type": "markdown",
      "metadata": {
        "id": "Jppw5-Bd56H-"
      },
      "source": [
        "### Average blurring (`cv2.blur`)"
      ]
    },
    {
      "cell_type": "code",
      "metadata": {
        "id": "okM7Bpyeq8Kc"
      },
      "source": [
        "# construct the argument parser and parse the arguments\n",
        "#ap = argparse.ArgumentParser()\n",
        "#ap.add_argument(\"-i\", \"--image\", type=str, default=\"adrian.png\",\n",
        "#\thelp=\"path to input image\")\n",
        "#args = vars(ap.parse_args())\n",
        "\n",
        "# since we are using Jupyter Notebooks we can replace our argument\n",
        "# parsing code with *hard coded* arguments and values\n",
        "args = {\n",
        "\t\"image\": \"adrian.png\"\n",
        "}"
      ],
      "execution_count": null,
      "outputs": []
    },
    {
      "cell_type": "code",
      "metadata": {
        "id": "1G2mbSTcRjdn"
      },
      "source": [
        "# load the image, display it to our screen, and initialize a list of\n",
        "# kernel sizes (so we can evaluate the relationship between kernel\n",
        "# size and amount of blurring)\n",
        "image = cv2.imread(args[\"image\"])\n",
        "plt_imshow(\"Original\", image)\n",
        "kernelSizes = [(3, 3), (9, 9), (15, 15)]\n",
        "\n",
        "# loop over the kernel sizes\n",
        "for (kX, kY) in kernelSizes:\n",
        "\t# apply an \"average\" blur to the image using the current kernel\n",
        "\t# size\n",
        "\tblurred = cv2.blur(image, (kX, kY))\n",
        "\tplt_imshow(\"Average ({}, {})\".format(kX, kY), blurred)"
      ],
      "execution_count": null,
      "outputs": []
    },
    {
      "cell_type": "code",
      "metadata": {
        "id": "bpckoy-ERmHJ"
      },
      "source": [
        "# display the original image\n",
        "plt_imshow(\"Original\", image)\n",
        "\n",
        "# loop over the kernel sizes again\n",
        "for (kX, kY) in kernelSizes:\n",
        "\t# apply a \"Gaussian\" blur to the image\n",
        "\tblurred = cv2.GaussianBlur(image, (kX, kY), 0)\n",
        "\tplt_imshow(\"Gaussian ({}, {})\".format(kX, kY), blurred)"
      ],
      "execution_count": null,
      "outputs": []
    },
    {
      "cell_type": "code",
      "metadata": {
        "id": "HOdmDAFpRqn5"
      },
      "source": [
        "# display the original image\n",
        "plt_imshow(\"Original\", image)\n",
        "\n",
        "# loop over the kernel sizes a final time\n",
        "for k in (3, 9, 15):\n",
        "\t# apply a \"median\" blur to the image\n",
        "\tblurred = cv2.medianBlur(image, k)\n",
        "\tplt_imshow(\"Median {}\".format(k), blurred)"
      ],
      "execution_count": null,
      "outputs": []
    },
    {
      "cell_type": "markdown",
      "metadata": {
        "id": "sL1qUq8WRuRE"
      },
      "source": [
        "### Bilateral blurring (`cv2.bilateralFilter`)"
      ]
    },
    {
      "cell_type": "code",
      "metadata": {
        "id": "ZUuqKfqRRrK5"
      },
      "source": [
        "# construct the argument parser and parse the arguments\n",
        "#ap = argparse.ArgumentParser()\n",
        "#ap.add_argument(\"-i\", \"--image\", type=str, default=\"adrian.png\",\n",
        "#\thelp=\"path to input image\")\n",
        "#args = vars(ap.parse_args())\n",
        "\n",
        "# since we are using Jupyter Notebooks we can replace our argument\n",
        "# parsing code with *hard coded* arguments and values\n",
        "args = {\n",
        "\t\"image\": \"adrian.png\"\n",
        "}"
      ],
      "execution_count": null,
      "outputs": []
    },
    {
      "cell_type": "code",
      "metadata": {
        "id": "psE4BNrlSD58"
      },
      "source": [
        "# load the image, display it to our screen, and construct a list of\n",
        "# bilateral filtering parameters that we are going to explore\n",
        "image = cv2.imread(args[\"image\"])\n",
        "plt_imshow(\"Original\", image)\n",
        "params = [(11, 21, 7), (11, 41, 21), (11, 61, 39)]\n",
        "\n",
        "# loop over the diameter, sigma color, and sigma space\n",
        "for (diameter, sigmaColor, sigmaSpace) in params:\n",
        "\t# apply bilateral filtering to the image using the current set of\n",
        "\t# parameters\n",
        "\tblurred = cv2.bilateralFilter(image, diameter, sigmaColor, sigmaSpace)\n",
        "\n",
        "\t# show the output image and associated parameters\n",
        "\ttitle = \"Blurred d={}, sc={}, ss={}\".format(\n",
        "\t\tdiameter, sigmaColor, sigmaSpace)\n",
        "\tplt_imshow(title, blurred)"
      ],
      "execution_count": null,
      "outputs": []
    },
    {
      "cell_type": "markdown",
      "metadata": {
        "id": "4ogkNauArL6u"
      },
      "source": [
        "For a detailed walkthrough of the concepts and code, be sure to refer to the full tutorial, [*OpenCV Smoothing and Blurring*](https://www.pyimagesearch.com/2021/04/28/opencv-smoothing-and-blurring/) published on 2021-04-28."
      ]
    }
  ]
}